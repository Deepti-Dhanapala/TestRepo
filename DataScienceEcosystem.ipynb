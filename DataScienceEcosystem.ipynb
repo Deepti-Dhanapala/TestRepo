{
 "cells": [
  {
   "cell_type": "markdown",
   "id": "ca234311-2660-45d8-b0e8-2aa6dece7af4",
   "metadata": {},
   "source": [
    "# Data Science tools and Ecosystems"
   ]
  },
  {
   "cell_type": "markdown",
   "id": "807cfdff-5b38-4332-af8c-e4fae46c0f76",
   "metadata": {},
   "source": [
    "In this notebook, Data Science Tools and Ecosystem are summarized.\n"
   ]
  },
  {
   "cell_type": "markdown",
   "id": "645414b7-4e5e-465b-9600-0735b9d650dc",
   "metadata": {},
   "source": [
    "**Objectives:**\n",
    "- List popular languages that data scientists use\n",
    "- Commonly used libraries used by Data Scientists\n",
    "- Data Science Tools\n",
    "- Examples of evaluating arithmetic expressions in python\n"
   ]
  },
  {
   "cell_type": "markdown",
   "id": "e0d11fba-543b-4ec8-ba5d-584bb9e5d126",
   "metadata": {},
   "source": [
    "Some of the popular languages that Data Scientists use are:\n",
    "1. Python\n",
    "2. R\n",
    "3. SQL"
   ]
  },
  {
   "cell_type": "markdown",
   "id": "de93905d-0fa1-43ec-bcf8-2e492e6b9ce3",
   "metadata": {},
   "source": [
    "Some of the commonly used libraries used by Data Scientists include:\n",
    "1. Pandas\n",
    "2. Numpy\n",
    "3. MatplotLib"
   ]
  },
  {
   "cell_type": "markdown",
   "id": "6e17f19a-d73f-416a-b747-d9d0e6d380f3",
   "metadata": {},
   "source": [
    "\n",
    "|Data Science Tools |\n",
    "------------------\n",
    "Jyputer Notebook   \n",
    "RStudio            \n",
    "Apache Spark      \n"
   ]
  },
  {
   "cell_type": "markdown",
   "id": "3ced0602-f729-47ec-9813-14f3efb31b18",
   "metadata": {},
   "source": [
    "### Below are a few examples of evaluating arithmetic expressions in Python\n"
   ]
  },
  {
   "cell_type": "code",
   "execution_count": 12,
   "id": "6491e851-1e77-4f62-8c69-a4eb2e67304a",
   "metadata": {},
   "outputs": [
    {
     "data": {
      "text/plain": [
       "17"
      ]
     },
     "execution_count": 12,
     "metadata": {},
     "output_type": "execute_result"
    }
   ],
   "source": [
    "# This a simple arithmetic expression to mutiply then add integers\n",
    "(3*4)+5"
   ]
  },
  {
   "cell_type": "code",
   "execution_count": 14,
   "id": "4be83f52-d669-4f84-8df0-13c692344878",
   "metadata": {},
   "outputs": [
    {
     "name": "stdout",
     "output_type": "stream",
     "text": [
      "200 minutes is equal to 3.33 hours\n"
     ]
    }
   ],
   "source": [
    "# This will convert 200 minutes to hours by diving by 60\n",
    "minutes = 200\n",
    "hours = minutes / 60\n",
    "print(f\"{minutes} minutes is equal to {hours:.2f} hours\")"
   ]
  },
  {
   "cell_type": "markdown",
   "id": "7e81a937-f513-492b-a939-b16654a6748a",
   "metadata": {},
   "source": [
    "## Author \n",
    "Deepti Dhanapala\n"
   ]
  },
  {
   "cell_type": "code",
   "execution_count": 22,
   "id": "af65aea8-eb98-4ff7-a8da-bf139732c720",
   "metadata": {},
   "outputs": [
    {
     "name": "stdout",
     "output_type": "stream",
     "text": [
      "C:\\Users\\dimpl\n"
     ]
    }
   ],
   "source": []
  },
  {
   "cell_type": "code",
   "execution_count": null,
   "id": "9185fac6-427d-4996-af36-30313e3a3a59",
   "metadata": {},
   "outputs": [],
   "source": []
  }
 ],
 "metadata": {
  "kernelspec": {
   "display_name": "Python 3 (ipykernel)",
   "language": "python",
   "name": "python3"
  },
  "language_info": {
   "codemirror_mode": {
    "name": "ipython",
    "version": 3
   },
   "file_extension": ".py",
   "mimetype": "text/x-python",
   "name": "python",
   "nbconvert_exporter": "python",
   "pygments_lexer": "ipython3",
   "version": "3.12.4"
  }
 },
 "nbformat": 4,
 "nbformat_minor": 5
}
